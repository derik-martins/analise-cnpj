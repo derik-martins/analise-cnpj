{
 "cells": [
  {
   "cell_type": "code",
   "execution_count": 1,
   "id": "786e4b10",
   "metadata": {},
   "outputs": [
    {
     "name": "stdout",
     "output_type": "stream",
     "text": [
      "Bibliotecas prontas!\n"
     ]
    }
   ],
   "source": [
    "import dask.dataframe as dd\n",
    "import pandas as pd\n",
    "import matplotlib.pyplot as plt\n",
    "import seaborn as sns\n",
    "\n",
    "print(\"Bibliotecas prontas!\")"
   ]
  },
  {
   "cell_type": "code",
   "execution_count": 2,
   "id": "1404a2a1",
   "metadata": {},
   "outputs": [
    {
     "name": "stdout",
     "output_type": "stream",
     "text": [
      "Estrutura de dados (DataFrame Dask) criada com sucesso. Nenhum dado foi carregado na memória ainda.\n"
     ]
    }
   ],
   "source": [
    "caminho_arquivo = 'data/K3241.K03200Y1.D50809.csv' \n",
    "\n",
    "colunas = [\n",
    "    'cnpj_basico', 'razao_social', 'natureza_juridica', \n",
    "    'qualificacao_responsavel', 'capital_social', 'porte_empresa', \n",
    "    'ente_federativo_responsavel'\n",
    "]\n",
    "\n",
    "ddf = dd.read_csv(\n",
    "    caminho_arquivo,\n",
    "    header=None,\n",
    "    names=colunas,\n",
    "    sep=';',\n",
    "    encoding='latin-1',\n",
    "    dtype={\n",
    "        'cnpj_basico': 'object',\n",
    "        'razao_social': 'object',\n",
    "        'natureza_juridica': 'object',\n",
    "        'qualificacao_responsavel': 'object',\n",
    "        'capital_social': 'object',\n",
    "        'porte_empresa': 'object',\n",
    "        'ente_federativo_responsavel': 'object'\n",
    "    },\n",
    "    blocksize='64MB' \n",
    ")\n",
    "\n",
    "ddf['capital_social'] = ddf['capital_social'].str.replace(',', '.').astype(float)\n",
    "\n",
    "print(\"Estrutura de dados (DataFrame Dask) criada com sucesso. Nenhum dado foi carregado na memória ainda.\")"
   ]
  },
  {
   "cell_type": "code",
   "execution_count": 3,
   "id": "59698368",
   "metadata": {},
   "outputs": [
    {
     "name": "stdout",
     "output_type": "stream",
     "text": [
      "Calculando as naturezas jurídicas mais comuns...\n",
      "\n",
      "--- As 10 Naturezas Jurídicas mais comuns (por código) ---\n",
      "natureza_juridica\n",
      "2062    1939141\n",
      "2135    1864910\n",
      "3999     311733\n",
      "2240     197082\n",
      "3085      57212\n",
      "4014      33645\n",
      "2143      13775\n",
      "3271      13424\n",
      "2224      10314\n",
      "2054       8359\n",
      "Name: count, dtype: int64[pyarrow]\n"
     ]
    }
   ],
   "source": [
    "contagem_natureza_juridica = ddf['natureza_juridica'].value_counts()\n",
    "\n",
    "print(\"Calculando as naturezas jurídicas mais comuns...\")\n",
    "top_10_naturezas = contagem_natureza_juridica.nlargest(10).compute()\n",
    "\n",
    "print(\"\\n--- As 10 Naturezas Jurídicas mais comuns (por código) ---\")\n",
    "print(top_10_naturezas)"
   ]
  },
  {
   "cell_type": "code",
   "execution_count": null,
   "id": "c20c7d3c",
   "metadata": {},
   "outputs": [],
   "source": []
  }
 ],
 "metadata": {
  "kernelspec": {
   "display_name": "Python 3",
   "language": "python",
   "name": "python3"
  },
  "language_info": {
   "codemirror_mode": {
    "name": "ipython",
    "version": 3
   },
   "file_extension": ".py",
   "mimetype": "text/x-python",
   "name": "python",
   "nbconvert_exporter": "python",
   "pygments_lexer": "ipython3",
   "version": "3.10.12"
  }
 },
 "nbformat": 4,
 "nbformat_minor": 5
}
