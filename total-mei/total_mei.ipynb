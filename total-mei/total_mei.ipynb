{
 "cells": [
  {
   "cell_type": "code",
   "execution_count": 1,
   "id": "1d8836ca",
   "metadata": {},
   "outputs": [
    {
     "name": "stdout",
     "output_type": "stream",
     "text": [
      "Bibliotecas importadas com sucesso!\n"
     ]
    }
   ],
   "source": [
    "import pandas as pd\n",
    "print(\"Bibliotecas importadas com sucesso!\")"
   ]
  },
  {
   "cell_type": "code",
   "execution_count": 2,
   "id": "cf6e9380",
   "metadata": {},
   "outputs": [
    {
     "name": "stdout",
     "output_type": "stream",
     "text": [
      "Variáveis de configuração prontas.\n"
     ]
    }
   ],
   "source": [
    "caminho_arquivo = '../data/K3241.K03200Y1.D50809.csv' \n",
    "\n",
    "colunas = [\n",
    "    'cnpj_basico', 'razao_social', 'natureza_juridica', \n",
    "    'qualificacao_responsavel', 'capital_social', 'porte_empresa', \n",
    "    'ente_federativo_responsavel'\n",
    "]\n",
    "\n",
    "chunk_size = 100000\n",
    "\n",
    "print(\"Variáveis de configuração prontas.\")"
   ]
  },
  {
   "cell_type": "code",
   "execution_count": 3,
   "id": "7ef8af0c",
   "metadata": {},
   "outputs": [
    {
     "name": "stdout",
     "output_type": "stream",
     "text": [
      "Iniciando o processamento do arquivo gigante. Isso pode levar tempo...\n",
      "Processamento concluído!\n"
     ]
    }
   ],
   "source": [
    "print(\"Iniciando o processamento do arquivo gigante. Isso pode levar tempo...\")\n",
    "\n",
    "leitor_chunks = pd.read_csv(\n",
    "    caminho_arquivo,\n",
    "    header=None,\n",
    "    names=colunas,\n",
    "    sep=';',\n",
    "    encoding='latin-1',\n",
    "    chunksize=chunk_size,\n",
    "    dtype={'cnpj_basico': str, 'natureza_juridica': str, 'porte_empresa': str} \n",
    ")\n",
    "\n",
    "total_mei = 0\n",
    "for chunk in leitor_chunks:\n",
    "    mei_no_chunk = chunk[chunk['natureza_juridica'] == '2135'].shape[0]\n",
    "    total_mei += mei_no_chunk\n",
    "\n",
    "print(\"Processamento concluído!\")"
   ]
  },
  {
   "cell_type": "code",
   "execution_count": 4,
   "id": "be648cbc",
   "metadata": {},
   "outputs": [
    {
     "name": "stdout",
     "output_type": "stream",
     "text": [
      "O número total de MEIs encontrados no arquivo foi: 1864910\n"
     ]
    }
   ],
   "source": [
    "print(f\"O número total de MEIs encontrados no arquivo foi: {total_mei}\")"
   ]
  }
 ],
 "metadata": {
  "kernelspec": {
   "display_name": "Python 3",
   "language": "python",
   "name": "python3"
  },
  "language_info": {
   "codemirror_mode": {
    "name": "ipython",
    "version": 3
   },
   "file_extension": ".py",
   "mimetype": "text/x-python",
   "name": "python",
   "nbconvert_exporter": "python",
   "pygments_lexer": "ipython3",
   "version": "3.10.12"
  }
 },
 "nbformat": 4,
 "nbformat_minor": 5
}
